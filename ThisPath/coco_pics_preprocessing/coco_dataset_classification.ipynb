{
 "cells": [
  {
   "cell_type": "code",
   "execution_count": 5,
   "id": "f9e619b6",
   "metadata": {},
   "outputs": [],
   "source": [
    "from pycocotools.coco import COCO\n",
    "import requests\n",
    "from tqdm import tqdm"
   ]
  },
  {
   "cell_type": "markdown",
   "id": "d572c968",
   "metadata": {},
   "source": [
    "# val 셋에서 사람만 분류하기"
   ]
  },
  {
   "cell_type": "code",
   "execution_count": 14,
   "id": "da37fad5",
   "metadata": {},
   "outputs": [
    {
     "name": "stdout",
     "output_type": "stream",
     "text": [
      "loading annotations into memory...\n",
      "Done (t=4.14s)\n",
      "creating index...\n",
      "index created!\n"
     ]
    }
   ],
   "source": [
    "coco=COCO(\"/Volumes/T7 Touch/coco/train_images/annotations/instances_val2017.json\")"
   ]
  },
  {
   "cell_type": "code",
   "execution_count": 15,
   "id": "7305d631",
   "metadata": {},
   "outputs": [],
   "source": [
    "catIds = coco.getCatIds(catNms=['person'])\n",
    "imgIds = coco.getImgIds(catIds=catIds)\n",
    "images = coco.loadImgs(imgIds)"
   ]
  },
  {
   "cell_type": "code",
   "execution_count": 8,
   "id": "7782fde8",
   "metadata": {},
   "outputs": [
    {
     "name": "stderr",
     "output_type": "stream",
     "text": [
      "100%|██████████| 2693/2693 [49:02<00:00,  1.09s/it] \n"
     ]
    }
   ],
   "source": [
    "for im in tqdm(images):\n",
    "    img_data = requests.get(im['coco_url']).content\n",
    "    with open('/Volumes/T7 Touch/coco/coco_person/' + im['file_name'], 'wb') as handler:\n",
    "        handler.write(img_data)"
   ]
  },
  {
   "cell_type": "code",
   "execution_count": null,
   "id": "cd5d6d7a",
   "metadata": {},
   "outputs": [],
   "source": []
  }
 ],
 "metadata": {
  "kernelspec": {
   "display_name": "Python 3",
   "language": "python",
   "name": "python3"
  },
  "language_info": {
   "codemirror_mode": {
    "name": "ipython",
    "version": 3
   },
   "file_extension": ".py",
   "mimetype": "text/x-python",
   "name": "python",
   "nbconvert_exporter": "python",
   "pygments_lexer": "ipython3",
   "version": "3.8.8"
  }
 },
 "nbformat": 4,
 "nbformat_minor": 5
}
